{
  "nbformat": 4,
  "nbformat_minor": 0,
  "metadata": {
    "colab": {
      "name": "Red Wine Quality_kaggle_data.ipynb",
      "version": "0.3.2",
      "provenance": [],
      "collapsed_sections": [],
      "include_colab_link": true
    },
    "kernelspec": {
      "name": "python3",
      "display_name": "Python 3"
    },
    "accelerator": "TPU"
  },
  "cells": [
    {
      "cell_type": "markdown",
      "metadata": {
        "id": "view-in-github",
        "colab_type": "text"
      },
      "source": [
        "<a href=\"https://colab.research.google.com/github/noahgift/kaggle-hackery/blob/master/Red_Wine_Quality_kaggle_data.ipynb\" target=\"_parent\"><img src=\"https://colab.research.google.com/assets/colab-badge.svg\" alt=\"Open In Colab\"/></a>"
      ]
    },
    {
      "metadata": {
        "id": "xSBoMgN4lRAr",
        "colab_type": "text"
      },
      "cell_type": "markdown",
      "source": [
        "# Kaggle Load Recipe"
      ]
    },
    {
      "metadata": {
        "id": "bG6eVSevY5_z",
        "colab_type": "text"
      },
      "cell_type": "markdown",
      "source": [
        "## Mount GDrive"
      ]
    },
    {
      "metadata": {
        "id": "Dwi5tsDwYxJY",
        "colab_type": "code",
        "outputId": "bea08a72-ac25-45d9-8de4-737cc4c0ba4b",
        "colab": {
          "base_uri": "https://localhost:8080/",
          "height": 122
        }
      },
      "cell_type": "code",
      "source": [
        "from google.colab import drive\n",
        "drive.mount('/content/gdrive')"
      ],
      "execution_count": 0,
      "outputs": [
        {
          "output_type": "stream",
          "text": [
            "Go to this URL in a browser: https://accounts.google.com/o/oauth2/auth?client_id=947318989803-6bn6qk8qdgf4n4g3pfee6491hc0brc4i.apps.googleusercontent.com&redirect_uri=urn%3Aietf%3Awg%3Aoauth%3A2.0%3Aoob&scope=email%20https%3A%2F%2Fwww.googleapis.com%2Fauth%2Fdocs.test%20https%3A%2F%2Fwww.googleapis.com%2Fauth%2Fdrive%20https%3A%2F%2Fwww.googleapis.com%2Fauth%2Fdrive.photos.readonly%20https%3A%2F%2Fwww.googleapis.com%2Fauth%2Fpeopleapi.readonly&response_type=code\n",
            "\n",
            "Enter your authorization code:\n",
            "··········\n",
            "Mounted at /content/gdrive\n"
          ],
          "name": "stdout"
        }
      ]
    },
    {
      "metadata": {
        "id": "Y_IEtysrbyCG",
        "colab_type": "text"
      },
      "cell_type": "markdown",
      "source": [
        "### list in python"
      ]
    },
    {
      "metadata": {
        "id": "ws2U1dVIaCDf",
        "colab_type": "code",
        "outputId": "5a254283-eac1-420e-e969-1b4fdd213325",
        "colab": {
          "base_uri": "https://localhost:8080/",
          "height": 34
        }
      },
      "cell_type": "code",
      "source": [
        "import os;os.listdir(\"/content/gdrive/My Drive/awsml\")"
      ],
      "execution_count": 0,
      "outputs": [
        {
          "output_type": "execute_result",
          "data": {
            "text/plain": [
              "['kaggle.json', 'credentials', 'config']"
            ]
          },
          "metadata": {
            "tags": []
          },
          "execution_count": 2
        }
      ]
    },
    {
      "metadata": {
        "id": "23kiNSVkb09I",
        "colab_type": "text"
      },
      "cell_type": "markdown",
      "source": [
        "### list in bash"
      ]
    },
    {
      "metadata": {
        "id": "5GIbH4AgbjhL",
        "colab_type": "code",
        "outputId": "73ce79ca-c3fd-47d4-d927-326f60e5b2c0",
        "colab": {
          "base_uri": "https://localhost:8080/",
          "height": 86
        }
      },
      "cell_type": "code",
      "source": [
        "!ls -l /content/gdrive/My\\ Drive/awsml"
      ],
      "execution_count": 0,
      "outputs": [
        {
          "output_type": "stream",
          "text": [
            "total 2\n",
            "-rw------- 1 root root  43 Nov 22 00:05 config\n",
            "-rw------- 1 root root 117 Nov 22 00:01 credentials\n",
            "-rw------- 1 root root  64 Nov 21 22:24 kaggle.json\n"
          ],
          "name": "stdout"
        }
      ]
    },
    {
      "metadata": {
        "id": "z2pbL991a9OU",
        "colab_type": "text"
      },
      "cell_type": "markdown",
      "source": [
        "## Wire up Kaggle"
      ]
    },
    {
      "metadata": {
        "id": "FXyFfUdbbBtB",
        "colab_type": "code",
        "colab": {}
      },
      "cell_type": "code",
      "source": [
        "!pip install -U -q kaggle\n",
        "!mkdir -p ~/.kaggle\n",
        "!cp /content/gdrive/My\\ Drive/awsml/kaggle.json ~/.kaggle/kaggle.json"
      ],
      "execution_count": 0,
      "outputs": []
    },
    {
      "metadata": {
        "id": "7n10W_hmb5CX",
        "colab_type": "text"
      },
      "cell_type": "markdown",
      "source": [
        "## Get Kaggle UCIML Red Wine Quality Data"
      ]
    },
    {
      "metadata": {
        "id": "dWxwfqJqb8Fe",
        "colab_type": "code",
        "outputId": "c88141fd-18a5-48a5-b1fa-8dca713f93ef",
        "colab": {
          "base_uri": "https://localhost:8080/",
          "height": 138
        }
      },
      "cell_type": "code",
      "source": [
        "!kaggle datasets download -d uciml/red-wine-quality-cortez-et-al-2009\n",
        "!ls -l /content\n",
        "!unzip /content/red-wine-quality-cortez-et-al-2009.zip"
      ],
      "execution_count": 0,
      "outputs": [
        {
          "output_type": "stream",
          "text": [
            "red-wine-quality-cortez-et-al-2009.zip: Skipping, found more recently modified local copy (use --force to force download)\n",
            "total 36\n",
            "drwx------ 4 root root  4096 Jan 19 03:14 gdrive\n",
            "-rw-r--r-- 1 root root 26136 Jan 19 03:15 red-wine-quality-cortez-et-al-2009.zip\n",
            "drwxr-xr-x 1 root root  4096 Jan  8 17:15 sample_data\n",
            "Archive:  /content/red-wine-quality-cortez-et-al-2009.zip\n",
            "  inflating: winequality-red.csv     \n"
          ],
          "name": "stdout"
        }
      ]
    },
    {
      "metadata": {
        "id": "4XeQ5w7xHwfu",
        "colab_type": "text"
      },
      "cell_type": "markdown",
      "source": [
        "### Import Libraries"
      ]
    },
    {
      "metadata": {
        "id": "HEAo5YXVH1Q_",
        "colab_type": "code",
        "colab": {}
      },
      "cell_type": "code",
      "source": [
        "import pandas as pd\n",
        "import matplotlib.pyplot as plt\n",
        "import seaborn as sns\n",
        "%matplotlib inline"
      ],
      "execution_count": 0,
      "outputs": []
    },
    {
      "metadata": {
        "id": "JMLQm0NYgRPl",
        "colab_type": "text"
      },
      "cell_type": "markdown",
      "source": [
        "### Load into Pandas"
      ]
    },
    {
      "metadata": {
        "id": "AboU3GEPG7Gi",
        "colab_type": "code",
        "outputId": "e1f07006-550b-4dcd-8510-4ceddd8dc85d",
        "colab": {
          "base_uri": "https://localhost:8080/",
          "height": 155
        }
      },
      "cell_type": "code",
      "source": [
        "import pandas as pd\n",
        "df = pd.read_csv(\"/content/winequality-red.csv\")\n",
        "df.head(3)"
      ],
      "execution_count": 0,
      "outputs": [
        {
          "output_type": "execute_result",
          "data": {
            "text/html": [
              "<div>\n",
              "<style scoped>\n",
              "    .dataframe tbody tr th:only-of-type {\n",
              "        vertical-align: middle;\n",
              "    }\n",
              "\n",
              "    .dataframe tbody tr th {\n",
              "        vertical-align: top;\n",
              "    }\n",
              "\n",
              "    .dataframe thead th {\n",
              "        text-align: right;\n",
              "    }\n",
              "</style>\n",
              "<table border=\"1\" class=\"dataframe\">\n",
              "  <thead>\n",
              "    <tr style=\"text-align: right;\">\n",
              "      <th></th>\n",
              "      <th>fixed acidity</th>\n",
              "      <th>volatile acidity</th>\n",
              "      <th>citric acid</th>\n",
              "      <th>residual sugar</th>\n",
              "      <th>chlorides</th>\n",
              "      <th>free sulfur dioxide</th>\n",
              "      <th>total sulfur dioxide</th>\n",
              "      <th>density</th>\n",
              "      <th>pH</th>\n",
              "      <th>sulphates</th>\n",
              "      <th>alcohol</th>\n",
              "      <th>quality</th>\n",
              "    </tr>\n",
              "  </thead>\n",
              "  <tbody>\n",
              "    <tr>\n",
              "      <th>0</th>\n",
              "      <td>7.4</td>\n",
              "      <td>0.70</td>\n",
              "      <td>0.00</td>\n",
              "      <td>1.9</td>\n",
              "      <td>0.076</td>\n",
              "      <td>11.0</td>\n",
              "      <td>34.0</td>\n",
              "      <td>0.9978</td>\n",
              "      <td>3.51</td>\n",
              "      <td>0.56</td>\n",
              "      <td>9.4</td>\n",
              "      <td>5</td>\n",
              "    </tr>\n",
              "    <tr>\n",
              "      <th>1</th>\n",
              "      <td>7.8</td>\n",
              "      <td>0.88</td>\n",
              "      <td>0.00</td>\n",
              "      <td>2.6</td>\n",
              "      <td>0.098</td>\n",
              "      <td>25.0</td>\n",
              "      <td>67.0</td>\n",
              "      <td>0.9968</td>\n",
              "      <td>3.20</td>\n",
              "      <td>0.68</td>\n",
              "      <td>9.8</td>\n",
              "      <td>5</td>\n",
              "    </tr>\n",
              "    <tr>\n",
              "      <th>2</th>\n",
              "      <td>7.8</td>\n",
              "      <td>0.76</td>\n",
              "      <td>0.04</td>\n",
              "      <td>2.3</td>\n",
              "      <td>0.092</td>\n",
              "      <td>15.0</td>\n",
              "      <td>54.0</td>\n",
              "      <td>0.9970</td>\n",
              "      <td>3.26</td>\n",
              "      <td>0.65</td>\n",
              "      <td>9.8</td>\n",
              "      <td>5</td>\n",
              "    </tr>\n",
              "  </tbody>\n",
              "</table>\n",
              "</div>"
            ],
            "text/plain": [
              "   fixed acidity  volatile acidity  citric acid  residual sugar  chlorides  \\\n",
              "0            7.4              0.70         0.00             1.9      0.076   \n",
              "1            7.8              0.88         0.00             2.6      0.098   \n",
              "2            7.8              0.76         0.04             2.3      0.092   \n",
              "\n",
              "   free sulfur dioxide  total sulfur dioxide  density    pH  sulphates  \\\n",
              "0                 11.0                  34.0   0.9978  3.51       0.56   \n",
              "1                 25.0                  67.0   0.9968  3.20       0.68   \n",
              "2                 15.0                  54.0   0.9970  3.26       0.65   \n",
              "\n",
              "   alcohol  quality  \n",
              "0      9.4        5  \n",
              "1      9.8        5  \n",
              "2      9.8        5  "
            ]
          },
          "metadata": {
            "tags": []
          },
          "execution_count": 14
        }
      ]
    },
    {
      "metadata": {
        "id": "t79uzIZehSRy",
        "colab_type": "text"
      },
      "cell_type": "markdown",
      "source": [
        "### Visualize Quality\n",
        "\n",
        "Reference kernel:  https://www.kaggle.com/muammerhuseyinoglu/prediction-of-wine-quality\n"
      ]
    },
    {
      "metadata": {
        "id": "eGtlHZVeHWfZ",
        "colab_type": "code",
        "colab": {}
      },
      "cell_type": "code",
      "source": [
        "quality = df[\"quality\"].values\n",
        "category = []\n",
        "for num in quality:\n",
        "    if num<5:\n",
        "        category.append(\"Bad\")\n",
        "    elif num>6:\n",
        "        category.append(\"Good\")\n",
        "    else:\n",
        "        category.append(\"Mid\")"
      ],
      "execution_count": 0,
      "outputs": []
    },
    {
      "metadata": {
        "id": "DFUzywuRHgoc",
        "colab_type": "code",
        "colab": {}
      },
      "cell_type": "code",
      "source": [
        "#Create new data\n",
        "category = pd.DataFrame(data=category, columns=[\"category\"])\n",
        "data = pd.concat([df,category],axis=1)\n",
        "data.drop(columns=\"quality\",axis=1,inplace=True)"
      ],
      "execution_count": 0,
      "outputs": []
    },
    {
      "metadata": {
        "id": "1dlLuYSHHjrc",
        "colab_type": "code",
        "outputId": "7e17d357-22d8-4fee-c2f4-14ea0b8ba723",
        "colab": {
          "base_uri": "https://localhost:8080/",
          "height": 492
        }
      },
      "cell_type": "code",
      "source": [
        "plt.figure(figsize=(10,6))\n",
        "sns.countplot(data[\"category\"],palette=\"muted\")\n",
        "data[\"category\"].value_counts()"
      ],
      "execution_count": 0,
      "outputs": [
        {
          "output_type": "stream",
          "text": [
            "/usr/local/lib/python3.6/dist-packages/seaborn/categorical.py:1428: FutureWarning: remove_na is deprecated and is a private function. Do not use.\n",
            "  stat_data = remove_na(group_data)\n"
          ],
          "name": "stderr"
        },
        {
          "output_type": "execute_result",
          "data": {
            "text/plain": [
              "Mid     1319\n",
              "Good     217\n",
              "Bad       63\n",
              "Name: category, dtype: int64"
            ]
          },
          "metadata": {
            "tags": []
          },
          "execution_count": 17
        },
        {
          "output_type": "display_data",
          "data": {
            "image/png": "[encoded data removed]",
            "text/plain": [
              "<Figure size 720x432 with 1 Axes>"
            ]
          },
          "metadata": {
            "tags": []
          }
        }
      ]
    },
    {
      "metadata": {
        "id": "wTh915JFHrYO",
        "colab_type": "code",
        "colab": {}
      },
      "cell_type": "code",
      "source": [
        ""
      ],
      "execution_count": 0,
      "outputs": []
    }
  ]
}